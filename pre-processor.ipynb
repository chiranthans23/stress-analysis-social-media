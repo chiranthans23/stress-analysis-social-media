{
 "cells": [
  {
   "cell_type": "code",
   "execution_count": 413,
   "id": "a3c2b6db",
   "metadata": {},
   "outputs": [
    {
     "data": {
      "text/html": [
       "<div>\n",
       "<style scoped>\n",
       "    .dataframe tbody tr th:only-of-type {\n",
       "        vertical-align: middle;\n",
       "    }\n",
       "\n",
       "    .dataframe tbody tr th {\n",
       "        vertical-align: top;\n",
       "    }\n",
       "\n",
       "    .dataframe thead th {\n",
       "        text-align: right;\n",
       "    }\n",
       "</style>\n",
       "<table border=\"1\" class=\"dataframe\">\n",
       "  <thead>\n",
       "    <tr style=\"text-align: right;\">\n",
       "      <th></th>\n",
       "      <th>subreddit</th>\n",
       "      <th>post_id</th>\n",
       "      <th>sentence_range</th>\n",
       "      <th>text</th>\n",
       "      <th>label</th>\n",
       "      <th>confidence</th>\n",
       "      <th>social_timestamp</th>\n",
       "      <th>social_karma</th>\n",
       "      <th>syntax_ari</th>\n",
       "      <th>lex_liwc_WC</th>\n",
       "      <th>...</th>\n",
       "      <th>lex_dal_min_pleasantness</th>\n",
       "      <th>lex_dal_min_activation</th>\n",
       "      <th>lex_dal_min_imagery</th>\n",
       "      <th>lex_dal_avg_activation</th>\n",
       "      <th>lex_dal_avg_imagery</th>\n",
       "      <th>lex_dal_avg_pleasantness</th>\n",
       "      <th>social_upvote_ratio</th>\n",
       "      <th>social_num_comments</th>\n",
       "      <th>syntax_fk_grade</th>\n",
       "      <th>sentiment</th>\n",
       "    </tr>\n",
       "    <tr>\n",
       "      <th>id</th>\n",
       "      <th></th>\n",
       "      <th></th>\n",
       "      <th></th>\n",
       "      <th></th>\n",
       "      <th></th>\n",
       "      <th></th>\n",
       "      <th></th>\n",
       "      <th></th>\n",
       "      <th></th>\n",
       "      <th></th>\n",
       "      <th></th>\n",
       "      <th></th>\n",
       "      <th></th>\n",
       "      <th></th>\n",
       "      <th></th>\n",
       "      <th></th>\n",
       "      <th></th>\n",
       "      <th></th>\n",
       "      <th></th>\n",
       "      <th></th>\n",
       "      <th></th>\n",
       "    </tr>\n",
       "  </thead>\n",
       "  <tbody>\n",
       "    <tr>\n",
       "      <th>33181</th>\n",
       "      <td>ptsd</td>\n",
       "      <td>8601tu</td>\n",
       "      <td>(15, 20)</td>\n",
       "      <td>He said he had not felt that way before, sugge...</td>\n",
       "      <td>1</td>\n",
       "      <td>0.8</td>\n",
       "      <td>1521614353</td>\n",
       "      <td>5</td>\n",
       "      <td>1.806818</td>\n",
       "      <td>116</td>\n",
       "      <td>...</td>\n",
       "      <td>1.000</td>\n",
       "      <td>1.1250</td>\n",
       "      <td>1.0</td>\n",
       "      <td>1.77000</td>\n",
       "      <td>1.52211</td>\n",
       "      <td>1.89556</td>\n",
       "      <td>0.86</td>\n",
       "      <td>1</td>\n",
       "      <td>3.253573</td>\n",
       "      <td>-0.002742</td>\n",
       "    </tr>\n",
       "    <tr>\n",
       "      <th>2606</th>\n",
       "      <td>assistance</td>\n",
       "      <td>8lbrx9</td>\n",
       "      <td>(0, 5)</td>\n",
       "      <td>Hey there r/assistance, Not sure if this is th...</td>\n",
       "      <td>0</td>\n",
       "      <td>1.0</td>\n",
       "      <td>1527009817</td>\n",
       "      <td>4</td>\n",
       "      <td>9.429737</td>\n",
       "      <td>109</td>\n",
       "      <td>...</td>\n",
       "      <td>1.125</td>\n",
       "      <td>1.0000</td>\n",
       "      <td>1.0</td>\n",
       "      <td>1.69586</td>\n",
       "      <td>1.62045</td>\n",
       "      <td>1.88919</td>\n",
       "      <td>0.65</td>\n",
       "      <td>2</td>\n",
       "      <td>8.828316</td>\n",
       "      <td>0.292857</td>\n",
       "    </tr>\n",
       "    <tr>\n",
       "      <th>38816</th>\n",
       "      <td>ptsd</td>\n",
       "      <td>9ch1zh</td>\n",
       "      <td>(15, 20)</td>\n",
       "      <td>My mom then hit me with the newspaper and it s...</td>\n",
       "      <td>1</td>\n",
       "      <td>0.8</td>\n",
       "      <td>1535935605</td>\n",
       "      <td>2</td>\n",
       "      <td>7.769821</td>\n",
       "      <td>167</td>\n",
       "      <td>...</td>\n",
       "      <td>1.000</td>\n",
       "      <td>1.1429</td>\n",
       "      <td>1.0</td>\n",
       "      <td>1.83088</td>\n",
       "      <td>1.58108</td>\n",
       "      <td>1.85828</td>\n",
       "      <td>0.67</td>\n",
       "      <td>0</td>\n",
       "      <td>7.841667</td>\n",
       "      <td>0.011894</td>\n",
       "    </tr>\n",
       "    <tr>\n",
       "      <th>239</th>\n",
       "      <td>relationships</td>\n",
       "      <td>7rorpp</td>\n",
       "      <td>[5, 10]</td>\n",
       "      <td>until i met my new boyfriend, he is amazing, h...</td>\n",
       "      <td>1</td>\n",
       "      <td>0.6</td>\n",
       "      <td>1516429555</td>\n",
       "      <td>0</td>\n",
       "      <td>2.667798</td>\n",
       "      <td>273</td>\n",
       "      <td>...</td>\n",
       "      <td>1.000</td>\n",
       "      <td>1.1250</td>\n",
       "      <td>1.0</td>\n",
       "      <td>1.75356</td>\n",
       "      <td>1.52114</td>\n",
       "      <td>1.98848</td>\n",
       "      <td>0.50</td>\n",
       "      <td>5</td>\n",
       "      <td>4.104027</td>\n",
       "      <td>0.141671</td>\n",
       "    </tr>\n",
       "    <tr>\n",
       "      <th>1421</th>\n",
       "      <td>survivorsofabuse</td>\n",
       "      <td>9p2gbc</td>\n",
       "      <td>[0, 5]</td>\n",
       "      <td>October is Domestic Violence Awareness Month a...</td>\n",
       "      <td>1</td>\n",
       "      <td>0.8</td>\n",
       "      <td>1539809005</td>\n",
       "      <td>24</td>\n",
       "      <td>7.554238</td>\n",
       "      <td>89</td>\n",
       "      <td>...</td>\n",
       "      <td>1.000</td>\n",
       "      <td>1.1250</td>\n",
       "      <td>1.0</td>\n",
       "      <td>1.77644</td>\n",
       "      <td>1.64872</td>\n",
       "      <td>1.81456</td>\n",
       "      <td>1.00</td>\n",
       "      <td>1</td>\n",
       "      <td>7.910952</td>\n",
       "      <td>-0.204167</td>\n",
       "    </tr>\n",
       "  </tbody>\n",
       "</table>\n",
       "<p>5 rows × 115 columns</p>\n",
       "</div>"
      ],
      "text/plain": [
       "              subreddit post_id sentence_range  \\\n",
       "id                                               \n",
       "33181              ptsd  8601tu       (15, 20)   \n",
       "2606         assistance  8lbrx9         (0, 5)   \n",
       "38816              ptsd  9ch1zh       (15, 20)   \n",
       "239       relationships  7rorpp        [5, 10]   \n",
       "1421   survivorsofabuse  9p2gbc         [0, 5]   \n",
       "\n",
       "                                                    text  label  confidence  \\\n",
       "id                                                                            \n",
       "33181  He said he had not felt that way before, sugge...      1         0.8   \n",
       "2606   Hey there r/assistance, Not sure if this is th...      0         1.0   \n",
       "38816  My mom then hit me with the newspaper and it s...      1         0.8   \n",
       "239    until i met my new boyfriend, he is amazing, h...      1         0.6   \n",
       "1421   October is Domestic Violence Awareness Month a...      1         0.8   \n",
       "\n",
       "       social_timestamp  social_karma  syntax_ari  lex_liwc_WC  ...  \\\n",
       "id                                                              ...   \n",
       "33181        1521614353             5    1.806818          116  ...   \n",
       "2606         1527009817             4    9.429737          109  ...   \n",
       "38816        1535935605             2    7.769821          167  ...   \n",
       "239          1516429555             0    2.667798          273  ...   \n",
       "1421         1539809005            24    7.554238           89  ...   \n",
       "\n",
       "       lex_dal_min_pleasantness  lex_dal_min_activation  lex_dal_min_imagery  \\\n",
       "id                                                                             \n",
       "33181                     1.000                  1.1250                  1.0   \n",
       "2606                      1.125                  1.0000                  1.0   \n",
       "38816                     1.000                  1.1429                  1.0   \n",
       "239                       1.000                  1.1250                  1.0   \n",
       "1421                      1.000                  1.1250                  1.0   \n",
       "\n",
       "       lex_dal_avg_activation  lex_dal_avg_imagery  lex_dal_avg_pleasantness  \\\n",
       "id                                                                             \n",
       "33181                 1.77000              1.52211                   1.89556   \n",
       "2606                  1.69586              1.62045                   1.88919   \n",
       "38816                 1.83088              1.58108                   1.85828   \n",
       "239                   1.75356              1.52114                   1.98848   \n",
       "1421                  1.77644              1.64872                   1.81456   \n",
       "\n",
       "       social_upvote_ratio  social_num_comments  syntax_fk_grade  sentiment  \n",
       "id                                                                           \n",
       "33181                 0.86                    1         3.253573  -0.002742  \n",
       "2606                  0.65                    2         8.828316   0.292857  \n",
       "38816                 0.67                    0         7.841667   0.011894  \n",
       "239                   0.50                    5         4.104027   0.141671  \n",
       "1421                  1.00                    1         7.910952  -0.204167  \n",
       "\n",
       "[5 rows x 115 columns]"
      ]
     },
     "execution_count": 413,
     "metadata": {},
     "output_type": "execute_result"
    }
   ],
   "source": [
    "import pandas as pd\n",
    "import numpy as np\n",
    "\n",
    "train = pd.read_csv(\"./dreaddit-train.csv\",index_col=\"id\")\n",
    "test = pd.read_csv(\"./dreaddit-test.csv\",index_col=\"id\")\n",
    "\n",
    "train.head()"
   ]
  },
  {
   "cell_type": "code",
   "execution_count": 414,
   "id": "b608973d",
   "metadata": {},
   "outputs": [
    {
     "name": "stdout",
     "output_type": "stream",
     "text": [
      "(2838, 115)\n",
      "(715, 115)\n"
     ]
    }
   ],
   "source": [
    "print(train.shape)\n",
    "\n",
    "print(test.shape)"
   ]
  },
  {
   "cell_type": "code",
   "execution_count": 415,
   "id": "38fd8eea",
   "metadata": {},
   "outputs": [
    {
     "name": "stdout",
     "output_type": "stream",
     "text": [
      "['subreddit', 'post_id', 'sentence_range', 'text']\n",
      "['label', 'confidence', 'social_timestamp', 'social_karma', 'syntax_ari', 'lex_liwc_WC', 'lex_liwc_Analytic', 'lex_liwc_Clout', 'lex_liwc_Authentic', 'lex_liwc_Tone', 'lex_liwc_WPS', 'lex_liwc_Sixltr', 'lex_liwc_Dic', 'lex_liwc_function', 'lex_liwc_pronoun', 'lex_liwc_ppron', 'lex_liwc_i', 'lex_liwc_we', 'lex_liwc_you', 'lex_liwc_shehe', 'lex_liwc_they', 'lex_liwc_ipron', 'lex_liwc_article', 'lex_liwc_prep', 'lex_liwc_auxverb', 'lex_liwc_adverb', 'lex_liwc_conj', 'lex_liwc_negate', 'lex_liwc_verb', 'lex_liwc_adj', 'lex_liwc_compare', 'lex_liwc_interrog', 'lex_liwc_number', 'lex_liwc_quant', 'lex_liwc_affect', 'lex_liwc_posemo', 'lex_liwc_negemo', 'lex_liwc_anx', 'lex_liwc_anger', 'lex_liwc_sad', 'lex_liwc_social', 'lex_liwc_family', 'lex_liwc_friend', 'lex_liwc_female', 'lex_liwc_male', 'lex_liwc_cogproc', 'lex_liwc_insight', 'lex_liwc_cause', 'lex_liwc_discrep', 'lex_liwc_tentat', 'lex_liwc_certain', 'lex_liwc_differ', 'lex_liwc_percept', 'lex_liwc_see', 'lex_liwc_hear', 'lex_liwc_feel', 'lex_liwc_bio', 'lex_liwc_body', 'lex_liwc_health', 'lex_liwc_sexual', 'lex_liwc_ingest', 'lex_liwc_drives', 'lex_liwc_affiliation', 'lex_liwc_achieve', 'lex_liwc_power', 'lex_liwc_reward', 'lex_liwc_risk', 'lex_liwc_focuspast', 'lex_liwc_focuspresent', 'lex_liwc_focusfuture', 'lex_liwc_relativ', 'lex_liwc_motion', 'lex_liwc_space', 'lex_liwc_time', 'lex_liwc_work', 'lex_liwc_leisure', 'lex_liwc_home', 'lex_liwc_money', 'lex_liwc_relig', 'lex_liwc_death', 'lex_liwc_informal', 'lex_liwc_swear', 'lex_liwc_netspeak', 'lex_liwc_assent', 'lex_liwc_nonflu', 'lex_liwc_filler', 'lex_liwc_AllPunc', 'lex_liwc_Period', 'lex_liwc_Comma', 'lex_liwc_Colon', 'lex_liwc_SemiC', 'lex_liwc_QMark', 'lex_liwc_Exclam', 'lex_liwc_Dash', 'lex_liwc_Quote', 'lex_liwc_Apostro', 'lex_liwc_Parenth', 'lex_liwc_OtherP', 'lex_dal_max_pleasantness', 'lex_dal_max_activation', 'lex_dal_max_imagery', 'lex_dal_min_pleasantness', 'lex_dal_min_activation', 'lex_dal_min_imagery', 'lex_dal_avg_activation', 'lex_dal_avg_imagery', 'lex_dal_avg_pleasantness', 'social_upvote_ratio', 'social_num_comments', 'syntax_fk_grade', 'sentiment']\n"
     ]
    }
   ],
   "source": [
    "#cat and num segregation\n",
    "\n",
    "categorical_col = [col for col in train.columns if\n",
    "                 train[col].dtype == 'object']\n",
    "numerical_col = [col for col in train.columns if\n",
    "                 train[col].dtype in ['int64', 'float64']]\n",
    "\n",
    "print(categorical_col)\n",
    "\n",
    "print(numerical_col)\n"
   ]
  },
  {
   "cell_type": "code",
   "execution_count": 416,
   "id": "4443f108",
   "metadata": {},
   "outputs": [],
   "source": [
    "#EDA\n",
    "\n",
    "# Using Pandas profiling. But, others like Dtale, Sweetviz, etc, can also be used\n",
    "# import pandas_profiling as pp\n",
    "# profile = pp.ProfileReport(train, minimal=True)\n",
    "# profile.to_file(output_file=\"report.html\")"
   ]
  },
  {
   "cell_type": "code",
   "execution_count": 417,
   "id": "f1278db2",
   "metadata": {},
   "outputs": [
    {
     "data": {
      "text/plain": [
       "ptsd                584\n",
       "relationships       552\n",
       "anxiety             503\n",
       "domesticviolence    316\n",
       "assistance          289\n",
       "survivorsofabuse    245\n",
       "homeless            168\n",
       "almosthomeless       80\n",
       "stress               64\n",
       "food_pantry          37\n",
       "Name: subreddit, dtype: int64"
      ]
     },
     "execution_count": 417,
     "metadata": {},
     "output_type": "execute_result"
    }
   ],
   "source": [
    "# different subreddit types\n",
    "train.subreddit.value_counts()"
   ]
  },
  {
   "cell_type": "code",
   "execution_count": 418,
   "id": "d457cb91",
   "metadata": {},
   "outputs": [],
   "source": [
    "# post id, sentence range aren't useful - using common sense\n",
    "\n",
    "train = train.drop(['post_id', 'sentence_range'], axis = 1)\n",
    "test = test.drop(['post_id', 'sentence_range'], axis = 1)"
   ]
  },
  {
   "cell_type": "code",
   "execution_count": 419,
   "id": "d1052380",
   "metadata": {},
   "outputs": [],
   "source": [
    "X=train.copy()\n",
    "y=train.label\n",
    "\n",
    "X_test=test.copy()\n",
    "y_test=test.label\n"
   ]
  },
  {
   "cell_type": "code",
   "execution_count": 420,
   "id": "6a94536b",
   "metadata": {},
   "outputs": [
    {
     "name": "stdout",
     "output_type": "stream",
     "text": [
      "Unique subreddits in training data 10\n",
      "Unique subreddits in test data 10\n",
      "                                                    text  label  confidence  \\\n",
      "id                                                                            \n",
      "33181  He said he had not felt that way before, sugge...      1         0.8   \n",
      "2606   Hey there r/assistance, Not sure if this is th...      0         1.0   \n",
      "38816  My mom then hit me with the newspaper and it s...      1         0.8   \n",
      "239    until i met my new boyfriend, he is amazing, h...      1         0.6   \n",
      "1421   October is Domestic Violence Awareness Month a...      1         0.8   \n",
      "\n",
      "       social_timestamp  social_karma  syntax_ari  lex_liwc_WC  \\\n",
      "id                                                               \n",
      "33181        1521614353             5    1.806818          116   \n",
      "2606         1527009817             4    9.429737          109   \n",
      "38816        1535935605             2    7.769821          167   \n",
      "239          1516429555             0    2.667798          273   \n",
      "1421         1539809005            24    7.554238           89   \n",
      "\n",
      "       lex_liwc_Analytic  lex_liwc_Clout  lex_liwc_Authentic  ...    0    1  \\\n",
      "id                                                            ...             \n",
      "33181              72.64           15.04               89.26  ...  0.0  0.0   \n",
      "2606               79.08           76.85               56.75  ...  0.0  0.0   \n",
      "38816              33.80           76.38               86.24  ...  0.0  0.0   \n",
      "239                 2.98           15.25               95.42  ...  0.0  0.0   \n",
      "1421               32.22           28.71               84.01  ...  0.0  0.0   \n",
      "\n",
      "         2    3    4    5    6    7    8    9  \n",
      "id                                             \n",
      "33181  0.0  0.0  0.0  0.0  1.0  0.0  0.0  0.0  \n",
      "2606   1.0  0.0  0.0  0.0  0.0  0.0  0.0  0.0  \n",
      "38816  0.0  0.0  0.0  0.0  1.0  0.0  0.0  0.0  \n",
      "239    0.0  0.0  0.0  0.0  0.0  1.0  0.0  0.0  \n",
      "1421   0.0  0.0  0.0  0.0  0.0  0.0  0.0  1.0  \n",
      "\n",
      "[5 rows x 122 columns]\n",
      "                                                    text  label  confidence  \\\n",
      "id                                                                            \n",
      "896    Its like that, if you want or not.“ ME: I have...      0         0.8   \n",
      "19059  I man the front desk and my title is HR Custom...      0         1.0   \n",
      "7977   We'd be saving so much money with this new hou...      1         1.0   \n",
      "1214   My ex used to shoot back with \"Do you want me ...      1         0.5   \n",
      "1965   I haven’t said anything to him yet because I’m...      0         0.8   \n",
      "\n",
      "       social_timestamp  social_karma  syntax_ari  lex_liwc_WC  \\\n",
      "id                                                               \n",
      "896        1.514981e+09            22   -1.238793           55   \n",
      "19059      1.493348e+09             5    7.684583           72   \n",
      "7977       1.524517e+09            10    2.360408          148   \n",
      "1214       1.524018e+09             5    5.997000          100   \n",
      "1965       1.516200e+09           138    4.649418           78   \n",
      "\n",
      "       lex_liwc_Analytic  lex_liwc_Clout  lex_liwc_Authentic  ...    0    1  \\\n",
      "id                                                            ...             \n",
      "896                 2.82           57.22               55.41  ...  0.0  0.0   \n",
      "19059              64.56           50.00               31.19  ...  0.0  1.0   \n",
      "7977               14.79           75.05               62.88  ...  0.0  0.0   \n",
      "1214               32.13           38.19               79.76  ...  0.0  0.0   \n",
      "1965                4.96           50.00               71.23  ...  0.0  0.0   \n",
      "\n",
      "         2    3    4    5    6    7    8    9  \n",
      "id                                             \n",
      "896    0.0  0.0  0.0  0.0  0.0  1.0  0.0  0.0  \n",
      "19059  0.0  0.0  0.0  0.0  0.0  0.0  0.0  0.0  \n",
      "7977   0.0  0.0  0.0  0.0  1.0  0.0  0.0  0.0  \n",
      "1214   0.0  0.0  0.0  0.0  1.0  0.0  0.0  0.0  \n",
      "1965   0.0  0.0  0.0  0.0  0.0  1.0  0.0  0.0  \n",
      "\n",
      "[5 rows x 122 columns]\n"
     ]
    }
   ],
   "source": [
    "# encoding subreddit text column\n",
    "# the cardinality is 10\n",
    "\n",
    "from sklearn.preprocessing import OneHotEncoder\n",
    "print('Unique subreddits in training data {}'.format(len(train['subreddit'].unique())))\n",
    "print('Unique subreddits in test data {}'.format(len(test['subreddit'].unique())))\n",
    "\n",
    "\n",
    "OH_encoder = OneHotEncoder(handle_unknown='ignore', sparse=False)\n",
    "\n",
    "OH_cols_train = pd.DataFrame(OH_encoder.fit_transform(train['subreddit'].to_frame()))\n",
    "OH_cols_test = pd.DataFrame(OH_encoder.transform(test['subreddit'].to_frame()))\n",
    "\n",
    "OH_cols_train.index = train.index\n",
    "OH_cols_test.index = test.index\n",
    "\n",
    "num_X_train = train.drop(['subreddit'], axis=1)\n",
    "num_X_test = test.drop(['subreddit'], axis=1)\n",
    "\n",
    "X = pd.concat([num_X_train, OH_cols_train], axis=1)\n",
    "X_test = pd.concat([num_X_test, OH_cols_test], axis=1)\n",
    "\n",
    "print(X.head())\n",
    "print(X_test.head())"
   ]
  },
  {
   "cell_type": "code",
   "execution_count": 421,
   "id": "72d383df",
   "metadata": {},
   "outputs": [
    {
     "name": "stdout",
     "output_type": "stream",
     "text": [
      "['text']\n",
      "['text']\n"
     ]
    }
   ],
   "source": [
    "# remaining text columns\n",
    "\n",
    "cols=[col for col in X.columns if X[col].dtype=='object']\n",
    "cols_test=[col for col in X_test.columns if X_test[col].dtype=='object']\n",
    "print(cols)\n",
    "print(cols_test)"
   ]
  },
  {
   "cell_type": "code",
   "execution_count": 422,
   "id": "a4ebf189",
   "metadata": {},
   "outputs": [],
   "source": [
    "# checking the correlation of features with the TARGET='label'\n",
    "X_corrs=X.corr().abs()['label'].sort_values(ascending = True)\n",
    "\n"
   ]
  },
  {
   "cell_type": "code",
   "execution_count": 423,
   "id": "39bd5b4a",
   "metadata": {},
   "outputs": [],
   "source": [
    "# text preprocessing helper functions\n",
    "# Make text lowercase,\n",
    "# removes hyperlinks,\n",
    "# remove punctuation\n",
    "# removes numbers\n",
    "# tokenizes\n",
    "# removes stopwords\n",
    "\n",
    "\n",
    "import nltk,re,string\n",
    "def clean_text(text):\n",
    "    '''Make text lowercase, remove text in square brackets,remove links,remove punctuation\n",
    "    and remove words containing numbers.'''\n",
    "    text = text.lower()\n",
    "    text = re.sub('\\[.*?\\]', '', text)\n",
    "    text = re.sub('https?://\\S+|www\\.\\S+', '', text)\n",
    "    text = re.sub('<.*?>+', '', text)\n",
    "    text = re.sub('[%s]' % re.escape(string.punctuation), '', text)\n",
    "    text = re.sub('\\n', '', text)\n",
    "    text = re.sub('\\w*\\d\\w*', '', text)\n",
    "    return text\n",
    "\n",
    "\n",
    "def text_preprocessing(text):\n",
    "    \"\"\"\n",
    "    Cleaning and parsing the text.\n",
    "\n",
    "    \"\"\"\n",
    "    tokenizer = nltk.tokenize.RegexpTokenizer(r'\\w+')\n",
    "    nopunc = clean_text(text)\n",
    "    tokenized_text = tokenizer.tokenize(nopunc)\n",
    "    combined_text = ' '.join(tokenized_text)\n",
    "    return combined_text"
   ]
  },
  {
   "cell_type": "code",
   "execution_count": 424,
   "id": "821788c1",
   "metadata": {},
   "outputs": [],
   "source": [
    "# Applying the cleaning function to both test and training datasets\n",
    "X['text_clean'] = X['text'].apply(str).apply(lambda x: text_preprocessing(x))\n",
    "X_test['text_clean'] = X_test['text'].apply(str).apply(lambda x: text_preprocessing(x))"
   ]
  },
  {
   "cell_type": "code",
   "execution_count": 425,
   "id": "66afa613",
   "metadata": {},
   "outputs": [],
   "source": [
    "X['text_len'] = X['text_clean'].astype(str).apply(len)\n",
    "X['text_word_count'] = X['text_clean'].apply(lambda x: len(str(x).split()))\n",
    "\n",
    "X_test['text_len'] = X_test['text_clean'].astype(str).apply(len)\n",
    "X_test['text_word_count'] = X_test['text_clean'].apply(lambda x: len(str(x).split()))"
   ]
  },
  {
   "cell_type": "code",
   "execution_count": 426,
   "id": "9aec05da",
   "metadata": {},
   "outputs": [
    {
     "name": "stdout",
     "output_type": "stream",
     "text": [
      "1599\n"
     ]
    }
   ],
   "source": [
    "print(X['text_len'].max())\n",
    "a=[1]\n",
    "#1599"
   ]
  },
  {
   "cell_type": "code",
   "execution_count": 427,
   "id": "bbaf5e46",
   "metadata": {},
   "outputs": [],
   "source": [
    "# for tokenizing\n",
    "import tensorflow as tf\n",
    "import transformers\n",
    "\n",
    "#creating a function\n",
    "def func_tokenizer(tokenizer_name, docs,max_len=1610):\n",
    "    ids = []\n",
    "    masks=[]\n",
    "    segments=[]\n",
    "    for doc in docs:\n",
    "        tokens = tokenizer_name.tokenize(doc)\n",
    "        tokens=tokens[:max_len-2]\n",
    "        input_sequence=[\"[CLS]\"]+tokens+[\"[SEP]\"]\n",
    "        pad_len=max_len-len(input_sequence)\n",
    "        token_ids = tokenizer_name.convert_tokens_to_ids(input_sequence)\n",
    "        token_ids+=[0]*pad_len\n",
    "        pad_masks=[1]*len(input_sequence)+[0]*pad_len\n",
    "        seg_ids=[0]*max_len\n",
    "        ids.append(token_ids)\n",
    "        masks.append(pad_masks)\n",
    "        segments.append(seg_ids)\n",
    "        \n",
    "    return np.array(ids),np.array(masks),np.array(segments)"
   ]
  },
  {
   "cell_type": "code",
   "execution_count": 428,
   "id": "a1e28881",
   "metadata": {},
   "outputs": [],
   "source": [
    "def text_to_tokenize_bert(X):\n",
    "    # BERT tokenizer from hugging face\n",
    "\n",
    "    bert_tokenizer = transformers.BertTokenizer.from_pretrained('bert-large-uncased')\n",
    "\n",
    "    bert_features = func_tokenizer(bert_tokenizer, X['text_clean'])\n",
    "    \n",
    "    ids,masks,segments=bert_features[0],bert_features[1],bert_features[2]\n",
    "\n",
    "    print('Ids: {}\\n\\n\\n'.format(ids))\n",
    "\n",
    "    print('Masks: {}\\n\\n\\n'.format(masks))\n",
    "\n",
    "\n",
    "    print('Segments: {}\\n\\n\\n'.format(segments))\n",
    "    \n",
    "    columns_len_tokenzed_data=len(ids[0])\n",
    "\n",
    "\n",
    "    ids_df=pd.DataFrame(masks,index=X.index,columns=[\"Tokenized_ID_%d\" % (i + 1) for i in range(columns_len_tokenzed_data)])\n",
    "\n",
    "    masks_df=pd.DataFrame(masks,index=X.index,columns=[\"Tokenized_Mask_%d\" % (i + 1) for i in range(columns_len_tokenzed_data)])\n",
    "\n",
    "    segments_df=pd.DataFrame(masks,index=X.index,columns=[\"Tokenized_Segment_%d\" % (i + 1) for i in range(columns_len_tokenzed_data)])\n",
    "    bert_dfs=pd.concat([ids_df,masks_df,segments_df],axis=1)\n",
    "    \n",
    "    print(bert_dfs)\n",
    "    X = X.drop(['text', 'text_clean'], axis = 1)\n",
    "    X=pd.concat([X,bert_dfs],axis=1)\n",
    "    return X\n",
    "    "
   ]
  },
  {
   "cell_type": "code",
   "execution_count": null,
   "id": "7025ecd3",
   "metadata": {},
   "outputs": [],
   "source": []
  },
  {
   "cell_type": "code",
   "execution_count": 429,
   "id": "5001d0a2",
   "metadata": {},
   "outputs": [
    {
     "name": "stdout",
     "output_type": "stream",
     "text": [
      "Ids: [[ 101 2002 2056 ...    0    0    0]\n",
      " [ 101 4931 2045 ...    0    0    0]\n",
      " [ 101 2026 3566 ...    0    0    0]\n",
      " ...\n",
      " [ 101 1999 2553 ...    0    0    0]\n",
      " [ 101 2079 2017 ...    0    0    0]\n",
      " [ 101 1045 2001 ...    0    0    0]]\n",
      "\n",
      "\n",
      "\n",
      "Masks: [[1 1 1 ... 0 0 0]\n",
      " [1 1 1 ... 0 0 0]\n",
      " [1 1 1 ... 0 0 0]\n",
      " ...\n",
      " [1 1 1 ... 0 0 0]\n",
      " [1 1 1 ... 0 0 0]\n",
      " [1 1 1 ... 0 0 0]]\n",
      "\n",
      "\n",
      "\n",
      "Segments: [[0 0 0 ... 0 0 0]\n",
      " [0 0 0 ... 0 0 0]\n",
      " [0 0 0 ... 0 0 0]\n",
      " ...\n",
      " [0 0 0 ... 0 0 0]\n",
      " [0 0 0 ... 0 0 0]\n",
      " [0 0 0 ... 0 0 0]]\n",
      "\n",
      "\n",
      "\n",
      "       Tokenized_ID_1  Tokenized_ID_2  Tokenized_ID_3  Tokenized_ID_4  \\\n",
      "id                                                                      \n",
      "33181               1               1               1               1   \n",
      "2606                1               1               1               1   \n",
      "38816               1               1               1               1   \n",
      "239                 1               1               1               1   \n",
      "1421                1               1               1               1   \n",
      "...               ...             ...             ...             ...   \n",
      "1713                1               1               1               1   \n",
      "1133                1               1               1               1   \n",
      "10442               1               1               1               1   \n",
      "1834                1               1               1               1   \n",
      "961                 1               1               1               1   \n",
      "\n",
      "       Tokenized_ID_5  Tokenized_ID_6  Tokenized_ID_7  Tokenized_ID_8  \\\n",
      "id                                                                      \n",
      "33181               1               1               1               1   \n",
      "2606                1               1               1               1   \n",
      "38816               1               1               1               1   \n",
      "239                 1               1               1               1   \n",
      "1421                1               1               1               1   \n",
      "...               ...             ...             ...             ...   \n",
      "1713                1               1               1               1   \n",
      "1133                1               1               1               1   \n",
      "10442               1               1               1               1   \n",
      "1834                1               1               1               1   \n",
      "961                 1               1               1               1   \n",
      "\n",
      "       Tokenized_ID_9  Tokenized_ID_10  ...  Tokenized_Segment_1601  \\\n",
      "id                                      ...                           \n",
      "33181               1                1  ...                       0   \n",
      "2606                1                1  ...                       0   \n",
      "38816               1                1  ...                       0   \n",
      "239                 1                1  ...                       0   \n",
      "1421                1                1  ...                       0   \n",
      "...               ...              ...  ...                     ...   \n",
      "1713                1                1  ...                       0   \n",
      "1133                1                1  ...                       0   \n",
      "10442               1                1  ...                       0   \n",
      "1834                1                1  ...                       0   \n",
      "961                 1                1  ...                       0   \n",
      "\n",
      "       Tokenized_Segment_1602  Tokenized_Segment_1603  Tokenized_Segment_1604  \\\n",
      "id                                                                              \n",
      "33181                       0                       0                       0   \n",
      "2606                        0                       0                       0   \n",
      "38816                       0                       0                       0   \n",
      "239                         0                       0                       0   \n",
      "1421                        0                       0                       0   \n",
      "...                       ...                     ...                     ...   \n",
      "1713                        0                       0                       0   \n",
      "1133                        0                       0                       0   \n",
      "10442                       0                       0                       0   \n",
      "1834                        0                       0                       0   \n",
      "961                         0                       0                       0   \n",
      "\n",
      "       Tokenized_Segment_1605  Tokenized_Segment_1606  Tokenized_Segment_1607  \\\n",
      "id                                                                              \n",
      "33181                       0                       0                       0   \n",
      "2606                        0                       0                       0   \n",
      "38816                       0                       0                       0   \n",
      "239                         0                       0                       0   \n",
      "1421                        0                       0                       0   \n",
      "...                       ...                     ...                     ...   \n",
      "1713                        0                       0                       0   \n",
      "1133                        0                       0                       0   \n",
      "10442                       0                       0                       0   \n",
      "1834                        0                       0                       0   \n",
      "961                         0                       0                       0   \n",
      "\n",
      "       Tokenized_Segment_1608  Tokenized_Segment_1609  Tokenized_Segment_1610  \n",
      "id                                                                             \n",
      "33181                       0                       0                       0  \n",
      "2606                        0                       0                       0  \n",
      "38816                       0                       0                       0  \n",
      "239                         0                       0                       0  \n",
      "1421                        0                       0                       0  \n",
      "...                       ...                     ...                     ...  \n",
      "1713                        0                       0                       0  \n",
      "1133                        0                       0                       0  \n",
      "10442                       0                       0                       0  \n",
      "1834                        0                       0                       0  \n",
      "961                         0                       0                       0  \n",
      "\n",
      "[2838 rows x 4830 columns]\n",
      "Ids: [[  101  2049  2066 ...     0     0     0]\n",
      " [  101  1045  2158 ...     0     0     0]\n",
      " [  101 21981  2022 ...     0     0     0]\n",
      " ...\n",
      " [  101  7297  1045 ...     0     0     0]\n",
      " [  101  2182  2015 ...     0     0     0]\n",
      " [  101  2129  2064 ...     0     0     0]]\n",
      "\n",
      "\n",
      "\n",
      "Masks: [[1 1 1 ... 0 0 0]\n",
      " [1 1 1 ... 0 0 0]\n",
      " [1 1 1 ... 0 0 0]\n",
      " ...\n",
      " [1 1 1 ... 0 0 0]\n",
      " [1 1 1 ... 0 0 0]\n",
      " [1 1 1 ... 0 0 0]]\n",
      "\n",
      "\n",
      "\n",
      "Segments: [[0 0 0 ... 0 0 0]\n",
      " [0 0 0 ... 0 0 0]\n",
      " [0 0 0 ... 0 0 0]\n",
      " ...\n",
      " [0 0 0 ... 0 0 0]\n",
      " [0 0 0 ... 0 0 0]\n",
      " [0 0 0 ... 0 0 0]]\n",
      "\n",
      "\n",
      "\n",
      "       Tokenized_ID_1  Tokenized_ID_2  Tokenized_ID_3  Tokenized_ID_4  \\\n",
      "id                                                                      \n",
      "896                 1               1               1               1   \n",
      "19059               1               1               1               1   \n",
      "7977                1               1               1               1   \n",
      "1214                1               1               1               1   \n",
      "1965                1               1               1               1   \n",
      "...               ...             ...             ...             ...   \n",
      "24271               1               1               1               1   \n",
      "2212                1               1               1               1   \n",
      "27951               1               1               1               1   \n",
      "1164                1               1               1               1   \n",
      "1519                1               1               1               1   \n",
      "\n",
      "       Tokenized_ID_5  Tokenized_ID_6  Tokenized_ID_7  Tokenized_ID_8  \\\n",
      "id                                                                      \n",
      "896                 1               1               1               1   \n",
      "19059               1               1               1               1   \n",
      "7977                1               1               1               1   \n",
      "1214                1               1               1               1   \n",
      "1965                1               1               1               1   \n",
      "...               ...             ...             ...             ...   \n",
      "24271               1               1               1               1   \n",
      "2212                1               1               1               1   \n",
      "27951               1               1               1               1   \n",
      "1164                1               1               1               1   \n",
      "1519                1               1               1               1   \n",
      "\n",
      "       Tokenized_ID_9  Tokenized_ID_10  ...  Tokenized_Segment_1601  \\\n",
      "id                                      ...                           \n",
      "896                 1                1  ...                       0   \n",
      "19059               1                1  ...                       0   \n",
      "7977                1                1  ...                       0   \n",
      "1214                1                1  ...                       0   \n",
      "1965                1                1  ...                       0   \n",
      "...               ...              ...  ...                     ...   \n",
      "24271               1                1  ...                       0   \n",
      "2212                1                1  ...                       0   \n",
      "27951               1                1  ...                       0   \n",
      "1164                1                1  ...                       0   \n",
      "1519                1                1  ...                       0   \n",
      "\n",
      "       Tokenized_Segment_1602  Tokenized_Segment_1603  Tokenized_Segment_1604  \\\n",
      "id                                                                              \n",
      "896                         0                       0                       0   \n",
      "19059                       0                       0                       0   \n",
      "7977                        0                       0                       0   \n",
      "1214                        0                       0                       0   \n",
      "1965                        0                       0                       0   \n",
      "...                       ...                     ...                     ...   \n",
      "24271                       0                       0                       0   \n",
      "2212                        0                       0                       0   \n",
      "27951                       0                       0                       0   \n",
      "1164                        0                       0                       0   \n",
      "1519                        0                       0                       0   \n",
      "\n",
      "       Tokenized_Segment_1605  Tokenized_Segment_1606  Tokenized_Segment_1607  \\\n",
      "id                                                                              \n",
      "896                         0                       0                       0   \n",
      "19059                       0                       0                       0   \n",
      "7977                        0                       0                       0   \n",
      "1214                        0                       0                       0   \n",
      "1965                        0                       0                       0   \n",
      "...                       ...                     ...                     ...   \n",
      "24271                       0                       0                       0   \n",
      "2212                        0                       0                       0   \n",
      "27951                       0                       0                       0   \n",
      "1164                        0                       0                       0   \n",
      "1519                        0                       0                       0   \n",
      "\n",
      "       Tokenized_Segment_1608  Tokenized_Segment_1609  Tokenized_Segment_1610  \n",
      "id                                                                             \n",
      "896                         0                       0                       0  \n",
      "19059                       0                       0                       0  \n",
      "7977                        0                       0                       0  \n",
      "1214                        0                       0                       0  \n",
      "1965                        0                       0                       0  \n",
      "...                       ...                     ...                     ...  \n",
      "24271                       0                       0                       0  \n",
      "2212                        0                       0                       0  \n",
      "27951                       0                       0                       0  \n",
      "1164                        0                       0                       0  \n",
      "1519                        0                       0                       0  \n",
      "\n",
      "[715 rows x 4830 columns]\n"
     ]
    }
   ],
   "source": [
    "X=text_to_tokenize_bert(X)\n",
    "X_test=text_to_tokenize_bert(X_test)\n"
   ]
  },
  {
   "cell_type": "code",
   "execution_count": 430,
   "id": "990081ec",
   "metadata": {},
   "outputs": [
    {
     "name": "stdout",
     "output_type": "stream",
     "text": [
      "       label  confidence  social_timestamp  social_karma  syntax_ari  \\\n",
      "id                                                                     \n",
      "33181      1         0.8        1521614353             5    1.806818   \n",
      "2606       0         1.0        1527009817             4    9.429737   \n",
      "38816      1         0.8        1535935605             2    7.769821   \n",
      "239        1         0.6        1516429555             0    2.667798   \n",
      "1421       1         0.8        1539809005            24    7.554238   \n",
      "\n",
      "       lex_liwc_WC  lex_liwc_Analytic  lex_liwc_Clout  lex_liwc_Authentic  \\\n",
      "id                                                                          \n",
      "33181          116              72.64           15.04               89.26   \n",
      "2606           109              79.08           76.85               56.75   \n",
      "38816          167              33.80           76.38               86.24   \n",
      "239            273               2.98           15.25               95.42   \n",
      "1421            89              32.22           28.71               84.01   \n",
      "\n",
      "       lex_liwc_Tone  ...  Tokenized_Segment_1601  Tokenized_Segment_1602  \\\n",
      "id                    ...                                                   \n",
      "33181           1.00  ...                       0                       0   \n",
      "2606           98.18  ...                       0                       0   \n",
      "38816          25.77  ...                       0                       0   \n",
      "239            79.26  ...                       0                       0   \n",
      "1421            1.00  ...                       0                       0   \n",
      "\n",
      "       Tokenized_Segment_1603  Tokenized_Segment_1604  Tokenized_Segment_1605  \\\n",
      "id                                                                              \n",
      "33181                       0                       0                       0   \n",
      "2606                        0                       0                       0   \n",
      "38816                       0                       0                       0   \n",
      "239                         0                       0                       0   \n",
      "1421                        0                       0                       0   \n",
      "\n",
      "       Tokenized_Segment_1606  Tokenized_Segment_1607  Tokenized_Segment_1608  \\\n",
      "id                                                                              \n",
      "33181                       0                       0                       0   \n",
      "2606                        0                       0                       0   \n",
      "38816                       0                       0                       0   \n",
      "239                         0                       0                       0   \n",
      "1421                        0                       0                       0   \n",
      "\n",
      "       Tokenized_Segment_1609  Tokenized_Segment_1610  \n",
      "id                                                     \n",
      "33181                       0                       0  \n",
      "2606                        0                       0  \n",
      "38816                       0                       0  \n",
      "239                         0                       0  \n",
      "1421                        0                       0  \n",
      "\n",
      "[5 rows x 4953 columns]\n",
      "       label  confidence  social_timestamp  social_karma  syntax_ari  \\\n",
      "id                                                                     \n",
      "896        0         0.8      1.514981e+09            22   -1.238793   \n",
      "19059      0         1.0      1.493348e+09             5    7.684583   \n",
      "7977       1         1.0      1.524517e+09            10    2.360408   \n",
      "1214       1         0.5      1.524018e+09             5    5.997000   \n",
      "1965       0         0.8      1.516200e+09           138    4.649418   \n",
      "\n",
      "       lex_liwc_WC  lex_liwc_Analytic  lex_liwc_Clout  lex_liwc_Authentic  \\\n",
      "id                                                                          \n",
      "896             55               2.82           57.22               55.41   \n",
      "19059           72              64.56           50.00               31.19   \n",
      "7977           148              14.79           75.05               62.88   \n",
      "1214           100              32.13           38.19               79.76   \n",
      "1965            78               4.96           50.00               71.23   \n",
      "\n",
      "       lex_liwc_Tone  ...  Tokenized_Segment_1601  Tokenized_Segment_1602  \\\n",
      "id                    ...                                                   \n",
      "896             5.95  ...                       0                       0   \n",
      "19059          92.40  ...                       0                       0   \n",
      "7977           16.15  ...                       0                       0   \n",
      "1214           12.51  ...                       0                       0   \n",
      "1965           89.84  ...                       0                       0   \n",
      "\n",
      "       Tokenized_Segment_1603  Tokenized_Segment_1604  Tokenized_Segment_1605  \\\n",
      "id                                                                              \n",
      "896                         0                       0                       0   \n",
      "19059                       0                       0                       0   \n",
      "7977                        0                       0                       0   \n",
      "1214                        0                       0                       0   \n",
      "1965                        0                       0                       0   \n",
      "\n",
      "       Tokenized_Segment_1606  Tokenized_Segment_1607  Tokenized_Segment_1608  \\\n",
      "id                                                                              \n",
      "896                         0                       0                       0   \n",
      "19059                       0                       0                       0   \n",
      "7977                        0                       0                       0   \n",
      "1214                        0                       0                       0   \n",
      "1965                        0                       0                       0   \n",
      "\n",
      "       Tokenized_Segment_1609  Tokenized_Segment_1610  \n",
      "id                                                     \n",
      "896                         0                       0  \n",
      "19059                       0                       0  \n",
      "7977                        0                       0  \n",
      "1214                        0                       0  \n",
      "1965                        0                       0  \n",
      "\n",
      "[5 rows x 4953 columns]\n"
     ]
    }
   ],
   "source": [
    "#Pre-processed train and test data\n",
    "print(X.head())\n",
    "print(X_test.head())"
   ]
  },
  {
   "cell_type": "code",
   "execution_count": 437,
   "id": "6fc3a36b",
   "metadata": {},
   "outputs": [],
   "source": [
    "# writing pre-processed data to file\n",
    "\n",
    "X.to_csv(\"pre_processed_train.csv\")\n",
    "X_test.to_csv(\"pre_processed_test.csv\")"
   ]
  },
  {
   "cell_type": "code",
   "execution_count": 432,
   "id": "ee1d22e6",
   "metadata": {},
   "outputs": [],
   "source": [
    "# X.drop([\"label\"], axis = 1, inplace = True)\n"
   ]
  },
  {
   "cell_type": "code",
   "execution_count": 433,
   "id": "046deee6",
   "metadata": {},
   "outputs": [],
   "source": [
    "# y_test=X_test.label\n",
    "# X_test.drop([\"label\"], axis = 1, inplace = True)\n"
   ]
  },
  {
   "cell_type": "code",
   "execution_count": 434,
   "id": "480eb6a0",
   "metadata": {},
   "outputs": [],
   "source": [
    "# from sklearn.metrics import mean_absolute_error\n",
    "# from sklearn.metrics import mean_squared_error\n",
    "# from xgboost import XGBClassifier\n",
    "\n",
    "# gpu_param = {\n",
    "#     'objective': 'reg:squarederror',\n",
    "#     'tree_method': 'gpu_hist'\n",
    "# }\n",
    "# best_params =  {'n_estimators': 4161, 'max_depth': 2, 'learning_rate': 0.09061477336150617, 'gamma': 0.4, 'min_child_weight': 7, 'subsample': 0.7, 'colsample_bytree': 0.5, 'reg_alpha': 0.7000000000000001, 'reg_lambda': 0.7000000000000001}\n",
    "# model=XGBClassifier(**best_params,**gpu_param)"
   ]
  },
  {
   "cell_type": "code",
   "execution_count": 435,
   "id": "689101d1",
   "metadata": {},
   "outputs": [],
   "source": [
    "# from sklearn.model_selection import RepeatedStratifiedKFold\n",
    "# def evaluate_model(model, X, y):\n",
    "# \tcv = RepeatedStratifiedKFold(n_splits=10, n_repeats=4, random_state=1)\n",
    "# \tscores = cross_val_score(model, X, y, scoring='f1', cv=cv, n_jobs=-1, error_score='raise')\n",
    "# \treturn scores"
   ]
  },
  {
   "cell_type": "code",
   "execution_count": 436,
   "id": "85bd0256",
   "metadata": {},
   "outputs": [],
   "source": [
    "# from numpy import mean\n",
    "# from numpy import std\n",
    "# from sklearn.model_selection import cross_val_score\n",
    "# scores = evaluate_model(model, X, y)\n",
    "\n",
    "# print('>%s %.2f (%.2f)' % (\"XGB\", scores.mean(), std(scores)))"
   ]
  },
  {
   "cell_type": "code",
   "execution_count": null,
   "id": "877dc047",
   "metadata": {},
   "outputs": [],
   "source": []
  }
 ],
 "metadata": {
  "kernelspec": {
   "display_name": "Python 3 (ipykernel)",
   "language": "python",
   "name": "python3"
  },
  "language_info": {
   "codemirror_mode": {
    "name": "ipython",
    "version": 3
   },
   "file_extension": ".py",
   "mimetype": "text/x-python",
   "name": "python",
   "nbconvert_exporter": "python",
   "pygments_lexer": "ipython3",
   "version": "3.7.10"
  },
  "widgets": {
   "application/vnd.jupyter.widget-state+json": {
    "state": {
     "0fdce88d05e94d85969ece0dd332263d": {
      "model_module": "@jupyter-widgets/base",
      "model_module_version": "1.2.0",
      "model_name": "LayoutModel",
      "state": {}
     },
     "0fef793f0e5e4da0841bbf5f17b726d5": {
      "model_module": "@jupyter-widgets/base",
      "model_module_version": "1.2.0",
      "model_name": "LayoutModel",
      "state": {}
     },
     "1eb90b24539f4979b79fbc42ed3bb4ae": {
      "model_module": "@jupyter-widgets/base",
      "model_module_version": "1.2.0",
      "model_name": "LayoutModel",
      "state": {}
     },
     "1f1ae77d6d8241269f340ce00fdd6a24": {
      "model_module": "@jupyter-widgets/base",
      "model_module_version": "1.2.0",
      "model_name": "LayoutModel",
      "state": {}
     },
     "2604a1965a2d49df9dfeb1c967ea4269": {
      "model_module": "@jupyter-widgets/controls",
      "model_module_version": "1.5.0",
      "model_name": "HTMLModel",
      "state": {
       "layout": "IPY_MODEL_51064e80ca8846d0b174c2b742f35daf",
       "style": "IPY_MODEL_c17d9cb5487a4f1896d02038ea484e67",
       "value": " 1/1 [00:40&lt;00:00, 40.16s/it]"
      }
     },
     "2ed41fb9d4cd42ebaaacf7e837631feb": {
      "model_module": "@jupyter-widgets/controls",
      "model_module_version": "1.5.0",
      "model_name": "DescriptionStyleModel",
      "state": {
       "description_width": ""
      }
     },
     "31e63e4fa52e458c80ae0db7ecadba29": {
      "model_module": "@jupyter-widgets/controls",
      "model_module_version": "1.5.0",
      "model_name": "DescriptionStyleModel",
      "state": {
       "description_width": ""
      }
     },
     "399c6b32f36b4e0b96ff1aa8b635e036": {
      "model_module": "@jupyter-widgets/base",
      "model_module_version": "1.2.0",
      "model_name": "LayoutModel",
      "state": {}
     },
     "43dcbe794d904a7e9f87cf3a8a7bab79": {
      "model_module": "@jupyter-widgets/base",
      "model_module_version": "1.2.0",
      "model_name": "LayoutModel",
      "state": {}
     },
     "4a213ce674e845d9868e11e1d8ce7a09": {
      "model_module": "@jupyter-widgets/controls",
      "model_module_version": "1.5.0",
      "model_name": "DescriptionStyleModel",
      "state": {
       "description_width": ""
      }
     },
     "51064e80ca8846d0b174c2b742f35daf": {
      "model_module": "@jupyter-widgets/base",
      "model_module_version": "1.2.0",
      "model_name": "LayoutModel",
      "state": {}
     },
     "60338bba5605470f9971c881d624c257": {
      "model_module": "@jupyter-widgets/controls",
      "model_module_version": "1.5.0",
      "model_name": "FloatProgressModel",
      "state": {
       "bar_style": "danger",
       "layout": "IPY_MODEL_1eb90b24539f4979b79fbc42ed3bb4ae",
       "max": 129,
       "style": "IPY_MODEL_87b79e8045dc407d94740464d2144f67",
       "value": 122
      }
     },
     "60e8b95c8c31463cafdd1cf8e574d57b": {
      "model_module": "@jupyter-widgets/base",
      "model_module_version": "1.2.0",
      "model_name": "LayoutModel",
      "state": {}
     },
     "67ed2982e61040a1a7e378518caff9a4": {
      "model_module": "@jupyter-widgets/base",
      "model_module_version": "1.2.0",
      "model_name": "LayoutModel",
      "state": {}
     },
     "6d42652c9c994dc8be0e142dbf972412": {
      "model_module": "@jupyter-widgets/controls",
      "model_module_version": "1.5.0",
      "model_name": "FloatProgressModel",
      "state": {
       "bar_style": "success",
       "layout": "IPY_MODEL_399c6b32f36b4e0b96ff1aa8b635e036",
       "max": 1,
       "style": "IPY_MODEL_7989505b42c949f0824c8ac4276c8c1a",
       "value": 1
      }
     },
     "6d8ee83583ee430893dfdd67b50e60b4": {
      "model_module": "@jupyter-widgets/controls",
      "model_module_version": "1.5.0",
      "model_name": "ProgressStyleModel",
      "state": {
       "description_width": ""
      }
     },
     "6fca9967068e472782bcb68a66b18d25": {
      "model_module": "@jupyter-widgets/controls",
      "model_module_version": "1.5.0",
      "model_name": "HTMLModel",
      "state": {
       "layout": "IPY_MODEL_43dcbe794d904a7e9f87cf3a8a7bab79",
       "style": "IPY_MODEL_31e63e4fa52e458c80ae0db7ecadba29",
       "value": "Summarize dataset: 100%"
      }
     },
     "7989505b42c949f0824c8ac4276c8c1a": {
      "model_module": "@jupyter-widgets/controls",
      "model_module_version": "1.5.0",
      "model_name": "ProgressStyleModel",
      "state": {
       "description_width": ""
      }
     },
     "847f1d17130e4e5da15080c39e531097": {
      "model_module": "@jupyter-widgets/controls",
      "model_module_version": "1.5.0",
      "model_name": "ProgressStyleModel",
      "state": {
       "description_width": ""
      }
     },
     "87b79e8045dc407d94740464d2144f67": {
      "model_module": "@jupyter-widgets/controls",
      "model_module_version": "1.5.0",
      "model_name": "ProgressStyleModel",
      "state": {
       "description_width": ""
      }
     },
     "88caeadd633445e182fb5a3294af9906": {
      "model_module": "@jupyter-widgets/base",
      "model_module_version": "1.2.0",
      "model_name": "LayoutModel",
      "state": {}
     },
     "89be85e2e35b4b7487e80c54942814ab": {
      "model_module": "@jupyter-widgets/controls",
      "model_module_version": "1.5.0",
      "model_name": "HTMLModel",
      "state": {
       "layout": "IPY_MODEL_0fdce88d05e94d85969ece0dd332263d",
       "style": "IPY_MODEL_f010864b5b9040938ca5da530924546d",
       "value": " 124/124 [00:01&lt;00:00, 74.58it/s, Completed]"
      }
     },
     "90174c42d8b44089ab7012847d01435a": {
      "model_module": "@jupyter-widgets/controls",
      "model_module_version": "1.5.0",
      "model_name": "HTMLModel",
      "state": {
       "layout": "IPY_MODEL_9e7eb969c0704b6391c5fff8d33df473",
       "style": "IPY_MODEL_2ed41fb9d4cd42ebaaacf7e837631feb",
       "value": " 1/1 [00:03&lt;00:00,  3.98s/it]"
      }
     },
     "96ed37368c954123b9e45da36a1c8964": {
      "model_module": "@jupyter-widgets/controls",
      "model_module_version": "1.5.0",
      "model_name": "HBoxModel",
      "state": {
       "children": [
        "IPY_MODEL_ec38d8999ff4412f80b66b7442d9b628",
        "IPY_MODEL_60338bba5605470f9971c881d624c257",
        "IPY_MODEL_e10bc7fd1efa431c9c17c1929d48f010"
       ],
       "layout": "IPY_MODEL_60e8b95c8c31463cafdd1cf8e574d57b"
      }
     },
     "9e7eb969c0704b6391c5fff8d33df473": {
      "model_module": "@jupyter-widgets/base",
      "model_module_version": "1.2.0",
      "model_name": "LayoutModel",
      "state": {}
     },
     "a9c71f73d89a4edb865bd8da7334f816": {
      "model_module": "@jupyter-widgets/controls",
      "model_module_version": "1.5.0",
      "model_name": "FloatProgressModel",
      "state": {
       "bar_style": "success",
       "layout": "IPY_MODEL_ea2a7c9de03741e29ed5810023f757d2",
       "max": 124,
       "style": "IPY_MODEL_847f1d17130e4e5da15080c39e531097",
       "value": 124
      }
     },
     "b448ae3c9420463ba4ba6d2638edae33": {
      "model_module": "@jupyter-widgets/controls",
      "model_module_version": "1.5.0",
      "model_name": "DescriptionStyleModel",
      "state": {
       "description_width": ""
      }
     },
     "b6bcfbca3c1940e19c8328df7acb4581": {
      "model_module": "@jupyter-widgets/controls",
      "model_module_version": "1.5.0",
      "model_name": "DescriptionStyleModel",
      "state": {
       "description_width": ""
      }
     },
     "b8c134ad541b489eac094d8e83940d1c": {
      "model_module": "@jupyter-widgets/controls",
      "model_module_version": "1.5.0",
      "model_name": "DescriptionStyleModel",
      "state": {
       "description_width": ""
      }
     },
     "c17d9cb5487a4f1896d02038ea484e67": {
      "model_module": "@jupyter-widgets/controls",
      "model_module_version": "1.5.0",
      "model_name": "DescriptionStyleModel",
      "state": {
       "description_width": ""
      }
     },
     "c63da0aa94ae46fb9d14299e83a12bfe": {
      "model_module": "@jupyter-widgets/controls",
      "model_module_version": "1.5.0",
      "model_name": "HTMLModel",
      "state": {
       "layout": "IPY_MODEL_eb1eefb51fdc4b87aa92418bd6b284b2",
       "style": "IPY_MODEL_b6bcfbca3c1940e19c8328df7acb4581",
       "value": "Generate report structure: 100%"
      }
     },
     "c9fc4b3500044c1290fc3b0a6dad9733": {
      "model_module": "@jupyter-widgets/controls",
      "model_module_version": "1.5.0",
      "model_name": "HBoxModel",
      "state": {
       "children": [
        "IPY_MODEL_df0eb96a9e2e4edc90cae5c3c8259009",
        "IPY_MODEL_dd25918c01d04f67a055ea869609dd1b",
        "IPY_MODEL_90174c42d8b44089ab7012847d01435a"
       ],
       "layout": "IPY_MODEL_0fef793f0e5e4da0841bbf5f17b726d5"
      }
     },
     "cf5fc5623baf4033b9bc53e75213cc7a": {
      "model_module": "@jupyter-widgets/controls",
      "model_module_version": "1.5.0",
      "model_name": "HBoxModel",
      "state": {
       "children": [
        "IPY_MODEL_6fca9967068e472782bcb68a66b18d25",
        "IPY_MODEL_a9c71f73d89a4edb865bd8da7334f816",
        "IPY_MODEL_89be85e2e35b4b7487e80c54942814ab"
       ],
       "layout": "IPY_MODEL_67ed2982e61040a1a7e378518caff9a4"
      }
     },
     "cf75e1c3b11e4c9285da6beda2f739dc": {
      "model_module": "@jupyter-widgets/controls",
      "model_module_version": "1.5.0",
      "model_name": "HBoxModel",
      "state": {
       "children": [
        "IPY_MODEL_c63da0aa94ae46fb9d14299e83a12bfe",
        "IPY_MODEL_6d42652c9c994dc8be0e142dbf972412",
        "IPY_MODEL_2604a1965a2d49df9dfeb1c967ea4269"
       ],
       "layout": "IPY_MODEL_d2f05d92beb1427e9203c3b3246f2eed"
      }
     },
     "d2f05d92beb1427e9203c3b3246f2eed": {
      "model_module": "@jupyter-widgets/base",
      "model_module_version": "1.2.0",
      "model_name": "LayoutModel",
      "state": {}
     },
     "d369c976e1f24f8795b631a760dc00d6": {
      "model_module": "@jupyter-widgets/base",
      "model_module_version": "1.2.0",
      "model_name": "LayoutModel",
      "state": {}
     },
     "dd25918c01d04f67a055ea869609dd1b": {
      "model_module": "@jupyter-widgets/controls",
      "model_module_version": "1.5.0",
      "model_name": "FloatProgressModel",
      "state": {
       "bar_style": "success",
       "layout": "IPY_MODEL_ee74769588a24bc493fe36a84ce7a7b0",
       "max": 1,
       "style": "IPY_MODEL_6d8ee83583ee430893dfdd67b50e60b4",
       "value": 1
      }
     },
     "df0eb96a9e2e4edc90cae5c3c8259009": {
      "model_module": "@jupyter-widgets/controls",
      "model_module_version": "1.5.0",
      "model_name": "HTMLModel",
      "state": {
       "layout": "IPY_MODEL_88caeadd633445e182fb5a3294af9906",
       "style": "IPY_MODEL_4a213ce674e845d9868e11e1d8ce7a09",
       "value": "Render HTML: 100%"
      }
     },
     "e10bc7fd1efa431c9c17c1929d48f010": {
      "model_module": "@jupyter-widgets/controls",
      "model_module_version": "1.5.0",
      "model_name": "HTMLModel",
      "state": {
       "layout": "IPY_MODEL_d369c976e1f24f8795b631a760dc00d6",
       "style": "IPY_MODEL_b8c134ad541b489eac094d8e83940d1c",
       "value": " 122/129 [15:08&lt;00:12,  1.73s/it, Get scatter matrix]"
      }
     },
     "ea2a7c9de03741e29ed5810023f757d2": {
      "model_module": "@jupyter-widgets/base",
      "model_module_version": "1.2.0",
      "model_name": "LayoutModel",
      "state": {}
     },
     "eb1eefb51fdc4b87aa92418bd6b284b2": {
      "model_module": "@jupyter-widgets/base",
      "model_module_version": "1.2.0",
      "model_name": "LayoutModel",
      "state": {}
     },
     "ec38d8999ff4412f80b66b7442d9b628": {
      "model_module": "@jupyter-widgets/controls",
      "model_module_version": "1.5.0",
      "model_name": "HTMLModel",
      "state": {
       "layout": "IPY_MODEL_1f1ae77d6d8241269f340ce00fdd6a24",
       "style": "IPY_MODEL_b448ae3c9420463ba4ba6d2638edae33",
       "value": "Summarize dataset:  95%"
      }
     },
     "ee74769588a24bc493fe36a84ce7a7b0": {
      "model_module": "@jupyter-widgets/base",
      "model_module_version": "1.2.0",
      "model_name": "LayoutModel",
      "state": {}
     },
     "f010864b5b9040938ca5da530924546d": {
      "model_module": "@jupyter-widgets/controls",
      "model_module_version": "1.5.0",
      "model_name": "DescriptionStyleModel",
      "state": {
       "description_width": ""
      }
     }
    },
    "version_major": 2,
    "version_minor": 0
   }
  }
 },
 "nbformat": 4,
 "nbformat_minor": 5
}
