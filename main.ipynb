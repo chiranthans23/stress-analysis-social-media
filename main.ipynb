{
 "cells": [
  {
   "cell_type": "code",
   "execution_count": 1,
   "id": "e5e22fc6",
   "metadata": {},
   "outputs": [],
   "source": [
    "import pandas as pd\n",
    "import numpy as np\n",
    "\n",
    "train = pd.read_csv(\"./pre_processed_train.csv\",index_col=\"id\")\n",
    "test = pd.read_csv(\"./pre_processed_test.csv\",index_col=\"id\")\n",
    "\n",
    "X=train.copy()\n",
    "X_test=test.copy()\n",
    "\n",
    "\n",
    "y=X.label\n",
    "y_test=X_test.label\n",
    "\n",
    "X=X.drop(['label'],axis=1)\n",
    "X_test=X_test.drop(['label'],axis=1)"
   ]
  },
  {
   "cell_type": "code",
   "execution_count": 2,
   "id": "d33d20ae",
   "metadata": {},
   "outputs": [
    {
     "data": {
      "text/html": [
       "<style type='text/css'>\n",
       ".datatable table.frame { margin-bottom: 0; }\n",
       ".datatable table.frame thead { border-bottom: none; }\n",
       ".datatable table.frame tr.coltypes td {  color: #FFFFFF;  line-height: 6px;  padding: 0 0.5em;}\n",
       ".datatable .bool    { background: #DDDD99; }\n",
       ".datatable .object  { background: #565656; }\n",
       ".datatable .int     { background: #5D9E5D; }\n",
       ".datatable .float   { background: #4040CC; }\n",
       ".datatable .str     { background: #CC4040; }\n",
       ".datatable .time    { background: #40CC40; }\n",
       ".datatable .row_index {  background: var(--jp-border-color3);  border-right: 1px solid var(--jp-border-color0);  color: var(--jp-ui-font-color3);  font-size: 9px;}\n",
       ".datatable .frame tbody td { text-align: left; }\n",
       ".datatable .frame tr.coltypes .row_index {  background: var(--jp-border-color0);}\n",
       ".datatable th:nth-child(2) { padding-left: 12px; }\n",
       ".datatable .hellipsis {  color: var(--jp-cell-editor-border-color);}\n",
       ".datatable .vellipsis {  background: var(--jp-layout-color0);  color: var(--jp-cell-editor-border-color);}\n",
       ".datatable .na {  color: var(--jp-cell-editor-border-color);  font-size: 80%;}\n",
       ".datatable .sp {  opacity: 0.25;}\n",
       ".datatable .footer { font-size: 9px; }\n",
       ".datatable .frame_dimensions {  background: var(--jp-border-color3);  border-top: 1px solid var(--jp-border-color0);  color: var(--jp-ui-font-color3);  display: inline-block;  opacity: 0.6;  padding: 1px 10px 1px 5px;}\n",
       "</style>\n"
      ],
      "text/plain": [
       "<IPython.core.display.HTML object>"
      ]
     },
     "metadata": {},
     "output_type": "display_data"
    }
   ],
   "source": [
    "from sklearn.ensemble import VotingClassifier\n",
    "from xgboost import XGBClassifier\n",
    "from sklearn.ensemble import GradientBoostingClassifier\n",
    "from lightgbm import LGBMClassifier\n",
    "from sklearn.metrics import f1_score\n",
    "from numpy import mean\n",
    "from numpy import std"
   ]
  },
  {
   "cell_type": "code",
   "execution_count": 3,
   "id": "77893236",
   "metadata": {},
   "outputs": [],
   "source": [
    "#LGBM, GBM, and XGB best models\n",
    "params_lgbm={'application':'binary','metric':'auc','num_leaves': 61, 'learning_rate': 0.09018623372462836, 'feature_fraction': 0.5345789610841638, 'bagging_fraction': 0.9913907896428181, 'max_depth': 5, 'max_bin': 58, 'min_sum_hessian_in_leaf': 39, 'subsample': 0.8}\n",
    "model1 = LGBMClassifier(**params_lgbm)\n",
    "\n",
    "params_xgb={'n_estimators': 3382, 'max_depth': 6, 'learning_rate': 0.009040061994740738, 'subsample': 0.9}\n",
    "gpu_param={'eval_metric':'auc','n_jobs':-1, 'tree_method':'gpu_hist', 'predictor':\"gpu_predictor\",'gpu_id':0}\n",
    "model2 = XGBClassifier(**params_xgb,**gpu_param)\n",
    "\n",
    "params_gbm={'n_estimators': 3382, 'max_depth': 6, 'learning_rate': 0.009040061994740738, 'subsample': 0.9, 'min_samples_split': 320, 'n_iter_no_change':50,'validation_fraction':0.2}\n",
    "model3 = GradientBoostingClassifier(**params_gbm)"
   ]
  },
  {
   "cell_type": "code",
   "execution_count": 14,
   "id": "dd429e5e",
   "metadata": {},
   "outputs": [
    {
     "name": "stdout",
     "output_type": "stream",
     "text": [
      "[LightGBM] [Warning] feature_fraction is set=0.5345789610841638, colsample_bytree=1.0 will be ignored. Current value: feature_fraction=0.5345789610841638\n",
      "[LightGBM] [Warning] min_sum_hessian_in_leaf is set=39, min_child_weight=0.001 will be ignored. Current value: min_sum_hessian_in_leaf=39\n",
      "[LightGBM] [Warning] bagging_fraction is set=0.9913907896428181, subsample=0.8 will be ignored. Current value: bagging_fraction=0.9913907896428181\n"
     ]
    },
    {
     "name": "stderr",
     "output_type": "stream",
     "text": [
      "/opt/conda/lib/python3.7/site-packages/xgboost/sklearn.py:1146: UserWarning: The use of label encoder in XGBClassifier is deprecated and will be removed in a future release. To remove this warning, do the following: 1) Pass option use_label_encoder=False when constructing XGBClassifier object; and 2) Encode your labels (y) as integers starting with 0, i.e. 0, 1, 2, ..., [num_class - 1].\n",
      "  warnings.warn(label_encoder_deprecation_msg, UserWarning)\n"
     ]
    },
    {
     "name": "stdout",
     "output_type": "stream",
     "text": [
      "Voting Score 0.769420\n"
     ]
    }
   ],
   "source": [
    "# group / ensemble of models\n",
    "import warnings\n",
    "warnings.filterwarnings(action='ignore', category=UserWarning)\n",
    "warnings.warn('label_encoder_deprecation_msg', category=UserWarning)\n",
    "estimator = []\n",
    "estimator.append(('GBM', model3))\n",
    "estimator.append(('LGBM', model1))\n",
    "estimator.append(('XGB', model2))\n",
    "  \n",
    "vot_hard = VotingClassifier(n_jobs=-1,estimators = estimator, voting ='hard',weights=[2,1,2])\n",
    "vot_hard.fit(X, y)\n",
    "y_pred = vot_hard.predict(X_test)\n",
    "\n",
    "score = f1_score(y_test, y_pred,average='binary')\n",
    "print(\"Voting Score %f\" % score)\n"
   ]
  },
  {
   "cell_type": "code",
   "execution_count": null,
   "id": "6afda86f",
   "metadata": {},
   "outputs": [],
   "source": []
  }
 ],
 "metadata": {
  "kernelspec": {
   "display_name": "Python 3 (ipykernel)",
   "language": "python",
   "name": "python3"
  },
  "language_info": {
   "codemirror_mode": {
    "name": "ipython",
    "version": 3
   },
   "file_extension": ".py",
   "mimetype": "text/x-python",
   "name": "python",
   "nbconvert_exporter": "python",
   "pygments_lexer": "ipython3",
   "version": "3.7.10"
  }
 },
 "nbformat": 4,
 "nbformat_minor": 5
}
